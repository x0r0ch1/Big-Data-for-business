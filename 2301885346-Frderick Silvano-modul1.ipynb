{
 "cells": [
  {
   "cell_type": "code",
   "execution_count": 21,
   "id": "4e5aa85d-8aca-4c3c-8c49-bd6b163317de",
   "metadata": {},
   "outputs": [],
   "source": [
    "# bagian \"Your First Program\""
   ]
  },
  {
   "cell_type": "code",
   "execution_count": 4,
   "id": "dd22ca22-c73b-45d9-9f73-ae578ad1ef7c",
   "metadata": {},
   "outputs": [
    {
     "name": "stdout",
     "output_type": "stream",
     "text": [
      "Hello World\n"
     ]
    }
   ],
   "source": [
    "print(\"Hello World\");"
   ]
  },
  {
   "cell_type": "code",
   "execution_count": 5,
   "id": "29fda39b-2c98-4f43-a9a5-f7aaf98c42d2",
   "metadata": {},
   "outputs": [
    {
     "name": "stdout",
     "output_type": "stream",
     "text": [
      "Hello\n",
      "World\n"
     ]
    }
   ],
   "source": [
    "print(\"Hello\\nWorld\");"
   ]
  },
  {
   "cell_type": "code",
   "execution_count": 6,
   "id": "f85625b6-c101-4cfd-942a-48a2fec742b0",
   "metadata": {},
   "outputs": [],
   "source": [
    "# ini adalah sebuah comment"
   ]
  },
  {
   "cell_type": "code",
   "execution_count": 20,
   "id": "7c38fe93-ac51-47cb-ae57-71c8e1cbe56e",
   "metadata": {},
   "outputs": [],
   "source": [
    "# bagian \"Types\""
   ]
  },
  {
   "cell_type": "code",
   "execution_count": 8,
   "id": "4af9e3ad-1dd6-4560-95b4-2ba31656173b",
   "metadata": {},
   "outputs": [
    {
     "name": "stdout",
     "output_type": "stream",
     "text": [
      "<class 'str'>\n"
     ]
    }
   ],
   "source": [
    "print(type(\"Hello World\"));"
   ]
  },
  {
   "cell_type": "code",
   "execution_count": 10,
   "id": "353d9897-9d94-4af0-bdba-1ed16c895544",
   "metadata": {},
   "outputs": [
    {
     "name": "stdout",
     "output_type": "stream",
     "text": [
      "<class 'float'>\n"
     ]
    }
   ],
   "source": [
    "print(type(1.1));"
   ]
  },
  {
   "cell_type": "code",
   "execution_count": 19,
   "id": "fa4da24f-0306-4ff4-9542-e17ce8908ca6",
   "metadata": {},
   "outputs": [
    {
     "name": "stdout",
     "output_type": "stream",
     "text": [
      "1\n",
      "True\n",
      "True\n"
     ]
    }
   ],
   "source": [
    "print(int (1));\n",
    "print(bool(1));\n",
    "print(bool(int (1)));"
   ]
  },
  {
   "cell_type": "code",
   "execution_count": 22,
   "id": "d625ecc8-0a2e-4179-a978-abb95f16e2cd",
   "metadata": {},
   "outputs": [],
   "source": [
    "# bagian \"Write your first Python Code\""
   ]
  },
  {
   "cell_type": "code",
   "execution_count": 23,
   "id": "99182afc-e8ee-430c-9d5a-166932f982d3",
   "metadata": {},
   "outputs": [
    {
     "name": "stdout",
     "output_type": "stream",
     "text": [
      "Hello, World!\n"
     ]
    }
   ],
   "source": [
    "print(\"Hello, World!\");"
   ]
  },
  {
   "cell_type": "code",
   "execution_count": 24,
   "id": "cf5aee91-9a04-4b41-bcb2-f3b7fb581624",
   "metadata": {},
   "outputs": [
    {
     "name": "stdout",
     "output_type": "stream",
     "text": [
      "Hello, world!\n"
     ]
    }
   ],
   "source": [
    "print(\"Hello, world!\") # Print the traditional hello;"
   ]
  },
  {
   "cell_type": "code",
   "execution_count": 28,
   "id": "3d3356a3-a4a2-479c-94f1-c16b7958f271",
   "metadata": {},
   "outputs": [
    {
     "data": {
      "text/plain": [
       "2"
      ]
     },
     "execution_count": 28,
     "metadata": {},
     "output_type": "execute_result"
    }
   ],
   "source": [
    "160 // 60"
   ]
  },
  {
   "cell_type": "code",
   "execution_count": 30,
   "id": "0d983a9b-c485-453e-bda5-4d791e3df148",
   "metadata": {},
   "outputs": [
    {
     "name": "stdout",
     "output_type": "stream",
     "text": [
      "9\n"
     ]
    }
   ],
   "source": [
    "x = 3+3*2;\n",
    "print(x);"
   ]
  },
  {
   "cell_type": "code",
   "execution_count": 32,
   "id": "4040c162-9bdb-4331-867d-e9c228d9450a",
   "metadata": {},
   "outputs": [
    {
     "name": "stdout",
     "output_type": "stream",
     "text": [
      "10\n"
     ]
    }
   ],
   "source": [
    "y = (3+2)*2;\n",
    "print(y);"
   ]
  },
  {
   "cell_type": "code",
   "execution_count": 33,
   "id": "ff529ad8-df21-4b41-afd2-3536b361eb34",
   "metadata": {},
   "outputs": [
    {
     "name": "stdout",
     "output_type": "stream",
     "text": [
      "19\n"
     ]
    }
   ],
   "source": [
    "z = x + y;\n",
    "print(z);"
   ]
  },
  {
   "cell_type": "code",
   "execution_count": 34,
   "id": "b1599567-143e-460a-9a6e-f1dc776982eb",
   "metadata": {},
   "outputs": [],
   "source": [
    "# bagian \"String Operations\""
   ]
  },
  {
   "cell_type": "code",
   "execution_count": 36,
   "id": "785f66a3-5feb-4191-9d39-58bd64611de3",
   "metadata": {},
   "outputs": [
    {
     "name": "stdout",
     "output_type": "stream",
     "text": [
      "ABCD\n"
     ]
    }
   ],
   "source": [
    "letters=\"ABCDEFGHIJK\";\n",
    "print(letters[0:4]);"
   ]
  },
  {
   "cell_type": "code",
   "execution_count": 37,
   "id": "cc996fc5-f9f9-45ea-98da-879a3443e3bc",
   "metadata": {},
   "outputs": [
    {
     "name": "stdout",
     "output_type": "stream",
     "text": [
      "Good\n"
     ]
    }
   ],
   "source": [
    "Good=\"GsoAoid\";\n",
    "print(Good[::2]);"
   ]
  },
  {
   "cell_type": "code",
   "execution_count": 39,
   "id": "0a6dfb6e-c992-4846-8b83-53e549714155",
   "metadata": {},
   "outputs": [
    {
     "name": "stdout",
     "output_type": "stream",
     "text": [
      "UPPERCASE\n"
     ]
    }
   ],
   "source": [
    "print(\"uppercase\".upper());"
   ]
  },
  {
   "cell_type": "code",
   "execution_count": 40,
   "id": "ce0cefda-6e20-4590-8195-afb4721d0d0b",
   "metadata": {},
   "outputs": [],
   "source": [
    "# bagian \"Lab - String Operations\""
   ]
  },
  {
   "cell_type": "code",
   "execution_count": 41,
   "id": "3951b129-3242-4004-bf41-220f09a1e65f",
   "metadata": {},
   "outputs": [
    {
     "name": "stdout",
     "output_type": "stream",
     "text": [
      "1\n"
     ]
    }
   ],
   "source": [
    "a=\"1\";\n",
    "print(a);"
   ]
  },
  {
   "cell_type": "code",
   "execution_count": 42,
   "id": "af97e358-5a8f-4c53-b415-103fccbcd40b",
   "metadata": {},
   "outputs": [
    {
     "name": "stdout",
     "output_type": "stream",
     "text": [
      "2\n"
     ]
    }
   ],
   "source": [
    "b=\"2\";\n",
    "print(b);"
   ]
  },
  {
   "cell_type": "code",
   "execution_count": 43,
   "id": "48377090-4a90-422f-b4a6-071073a24d87",
   "metadata": {},
   "outputs": [
    {
     "name": "stdout",
     "output_type": "stream",
     "text": [
      "12\n"
     ]
    }
   ],
   "source": [
    "c = a+b;\n",
    "print(c);"
   ]
  },
  {
   "cell_type": "code",
   "execution_count": 44,
   "id": "40923fbf-2d4d-4a23-b2f2-2fea343a259d",
   "metadata": {},
   "outputs": [
    {
     "name": "stdout",
     "output_type": "stream",
     "text": [
      "ABC\n"
     ]
    }
   ],
   "source": [
    "d=\"ABCDEFG\";\n",
    "print(d[0:3]);"
   ]
  },
  {
   "cell_type": "code",
   "execution_count": 45,
   "id": "c5482042-c510-48df-92b1-192ef55beb60",
   "metadata": {},
   "outputs": [
    {
     "name": "stdout",
     "output_type": "stream",
     "text": [
      "correct\n"
     ]
    }
   ],
   "source": [
    "e='clocrkrlelcit';\n",
    "print(e[::2]);"
   ]
  },
  {
   "cell_type": "code",
   "execution_count": 46,
   "id": "edf9c8d3-d66a-48c6-b3fd-e831f0ab46d2",
   "metadata": {},
   "outputs": [
    {
     "name": "stdout",
     "output_type": "stream",
     "text": [
      "\\\n"
     ]
    }
   ],
   "source": [
    "print(\"\\\\\");"
   ]
  },
  {
   "cell_type": "code",
   "execution_count": 47,
   "id": "4d95aef2-7cdc-402b-b624-8ee56d6af2c4",
   "metadata": {},
   "outputs": [
    {
     "name": "stdout",
     "output_type": "stream",
     "text": [
      "YOU ARE WRONG\n"
     ]
    }
   ],
   "source": [
    "f=\"You are wrong\";\n",
    "print(f.upper());"
   ]
  },
  {
   "cell_type": "code",
   "execution_count": 50,
   "id": "5aee8eef-506c-4bc0-afcd-db8aab102567",
   "metadata": {},
   "outputs": [
    {
     "name": "stdout",
     "output_type": "stream",
     "text": [
      "95\n"
     ]
    }
   ],
   "source": [
    "g = \"Mary had a little lamb Little lamb, little lamb Mary had a little lamb \\\n",
    "Its fleece was white as snow And everywhere that Mary went Mary went, Mary went \\\n",
    "Everywhere that Mary went The lamb was sure to go\"\n",
    "print(g.find(\"snow\"));"
   ]
  },
  {
   "cell_type": "code",
   "execution_count": 53,
   "id": "528e2698-d728-41ab-921c-148fe01dca7b",
   "metadata": {},
   "outputs": [
    {
     "name": "stdout",
     "output_type": "stream",
     "text": [
      "Bob had a little lamb Little lamb, little lamb Bob had a little lamb Its fleece was white as snow And everywhere that Bob went Bob went, Bob went Everywhere that Bob went The lamb was sure to go\n"
     ]
    }
   ],
   "source": [
    "print(g.replace(\"Mary\", \"Bob\"));"
   ]
  }
 ],
 "metadata": {
  "kernelspec": {
   "display_name": "Python 3 (ipykernel)",
   "language": "python",
   "name": "python3"
  },
  "language_info": {
   "codemirror_mode": {
    "name": "ipython",
    "version": 3
   },
   "file_extension": ".py",
   "mimetype": "text/x-python",
   "name": "python",
   "nbconvert_exporter": "python",
   "pygments_lexer": "ipython3",
   "version": "3.9.7"
  }
 },
 "nbformat": 4,
 "nbformat_minor": 5
}
